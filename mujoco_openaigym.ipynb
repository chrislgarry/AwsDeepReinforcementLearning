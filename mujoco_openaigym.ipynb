{
  "nbformat": 4,
  "nbformat_minor": 0,
  "metadata": {
    "colab": {
      "name": "Rendering Mujoco OpenAI Gym in Colaboratory.ipynb",
      "version": "0.3.2",
      "provenance": [],
      "private_outputs": true,
      "collapsed_sections": []
    },
    "kernelspec": {
      "name": "python3",
      "display_name": "Python 3"
    },
    "accelerator": "GPU"
  },
  "cells": [
    {
      "metadata": {
        "id": "odNaDE1zyrL2",
        "colab_type": "text"
      },
      "cell_type": "markdown",
      "source": [
        "# Install Dependencies\n",
        "Headless rendering dependencies\n",
        "\n"
      ]
    },
    {
      "metadata": {
        "id": "8-AxnvAVyzQQ",
        "colab_type": "code",
        "colab": {}
      },
      "cell_type": "code",
      "source": [
        "# Remove \" > /dev/null\" to see what is going on under the hood\n",
        "!apt-get update > /dev/null\n",
        "!pip install pyvirtualdisplay > /dev/null\n",
        "!apt-get install -y xvfb python-opengl ffmpeg > /dev/null"
      ],
      "execution_count": 0,
      "outputs": []
    },
    {
      "metadata": {
        "id": "5-lj6z4Rz1uE",
        "colab_type": "text"
      },
      "cell_type": "markdown",
      "source": [
        "Mujoco-py, dependencies, and license"
      ]
    },
    {
      "metadata": {
        "id": "iQajgPS2OEu5",
        "colab_type": "code",
        "colab": {}
      },
      "cell_type": "code",
      "source": [
        "from google.colab import files\n",
        "uploaded = files.upload()"
      ],
      "execution_count": 0,
      "outputs": []
    },
    {
      "metadata": {
        "id": "qM_evV3hNqaP",
        "colab_type": "code",
        "colab": {}
      },
      "cell_type": "code",
      "source": [
        "!apt-get update -q > /dev/null\\\n",
        "    && DEBIAN_FRONTEND=noninteractive apt-get install -y \\\n",
        "    curl \\\n",
        "    git \\\n",
        "    libgl1-mesa-dev \\\n",
        "    libgl1-mesa-glx \\\n",
        "    libglew-dev \\\n",
        "    libosmesa6-dev \\\n",
        "    software-properties-common \\\n",
        "    net-tools \\\n",
        "    unzip \\\n",
        "    vim \\\n",
        "    virtualenv \\\n",
        "    wget \\\n",
        "    xpra \\\n",
        "    xserver-xorg-dev > /dev/null \\\n",
        "    && apt-get clean > /dev/null \\\n",
        "    && rm -rf /var/lib/apt/lists/* > /dev/null\n",
        "\n",
        "#!DEBIAN_FRONTEND=noninteractive add-apt-repository --yes ppa:deadsnakes/ppa && apt-get update > /dev/null\n",
        "#!DEBIAN_FRONTEND=noninteractive apt-get install --yes python3.6-dev python3.6 python3-pip > /dev/null\n",
        "\n",
        "!curl -o /usr/local/bin/patchelf https://s3-us-west-2.amazonaws.com/openai-sci-artifacts/manual-builds/patchelf_0.9_amd64.elf > /dev/null \\\n",
        "    && chmod +x /usr/local/bin/patchelf > /dev/null\n",
        "\n",
        "!export LANG=C.UTF-8 > /dev/null\n",
        "!rm -rf /root/.mujoco > /dev/null\n",
        "!mkdir -p /root/.mujoco > /dev/null \\\n",
        "    && wget https://www.roboti.us/download/mjpro150_linux.zip -O mujoco.zip > /dev/null \\\n",
        "    && unzip mujoco.zip -d /root/.mujoco > /dev/null \\\n",
        "    && rm mujoco.zip > /dev/null\n",
        "!cp ./mjkey.txt /root/.mujoco/ > /dev/null\n",
        "!export LD_LIBRARY_PATH=/root/.mujoco/mjpro150/bin:${LD_LIBRARY_PATH} > /dev/null\n",
        "!rm -rf /mujoco_py > /dev/null && mkdir /mujoco_py > /dev/null\n",
        "# Copy over just requirements.txt at first. That way, the Docker cache doesn't\n",
        "# expire until we actually change the requirements.\n",
        "!git clone https://github.com/openai/mujoco-py.git && cd mujoco-py \\\n",
        "&& cp -r ./* /mujoco_py/ && cd /mujoco_py && pip install -r requirements.txt > /dev/null \\\n",
        "&& pip install -r requirements.dev.txt && pytest > /dev/null && python setup.py install > /dev/null"
      ],
      "execution_count": 0,
      "outputs": []
    },
    {
      "metadata": {
        "id": "AISETawgt6_Q",
        "colab_type": "code",
        "colab": {}
      },
      "cell_type": "code",
      "source": [
        "!pip install -U mujoco-py"
      ],
      "execution_count": 0,
      "outputs": []
    },
    {
      "metadata": {
        "id": "WZKhfP-RvsOD",
        "colab_type": "text"
      },
      "cell_type": "markdown",
      "source": [
        "OpenAI Gym & Dependencies"
      ]
    },
    {
      "metadata": {
        "id": "kWhJPzHezfds",
        "colab_type": "code",
        "colab": {}
      },
      "cell_type": "code",
      "source": [
        "#!apt-get update > /dev/null\n",
        "#!apt-get install -y python-pyglet python3-opengl zlib1g-dev libjpeg-dev patchelf \\\n",
        "#        cmake swig libboost-all-dev libsdl2-dev libosmesa6-dev xvfb ffmpeg > /dev/null\n",
        "#!pip install gym[all] > /dev/null"
      ],
      "execution_count": 0,
      "outputs": []
    },
    {
      "metadata": {
        "id": "8A-1LTSH88EE",
        "colab_type": "text"
      },
      "cell_type": "markdown",
      "source": [
        "Baselines Dependencies"
      ]
    },
    {
      "metadata": {
        "id": "TCelFzWY9MBI",
        "colab_type": "code",
        "colab": {}
      },
      "cell_type": "code",
      "source": [
        "#!apt-get update > /dev/null\n",
        "#!apt-get install cmake libopenmpi-dev python3-dev zlib1g-dev  > /dev/null"
      ],
      "execution_count": 0,
      "outputs": []
    },
    {
      "metadata": {
        "id": "APXSx7hg19TH",
        "colab_type": "text"
      },
      "cell_type": "markdown",
      "source": [
        "# Imports and Helper functions\n"
      ]
    },
    {
      "metadata": {
        "id": "pdb2JwZy4jGj",
        "colab_type": "code",
        "colab": {}
      },
      "cell_type": "code",
      "source": [
        "import gym\n",
        "import mujoco_py\n",
        "from gym import logger as gymlogger\n",
        "from gym.wrappers import Monitor\n",
        "gymlogger.set_level(40) #error only\n",
        "import tensorflow as tf\n",
        "import numpy as np\n",
        "import random\n",
        "import matplotlib\n",
        "import matplotlib.pyplot as plt\n",
        "%matplotlib inline\n",
        "import math\n",
        "import glob\n",
        "import io\n",
        "import base64\n",
        "from IPython.display import HTML\n",
        "\n",
        "from IPython import display as ipythondisplay\n",
        "\n",
        "import os\n",
        "os.environ['LD_LIBRARY_PATH'] += \":/root/.mujoco/mjpro150/bin\"\n",
        "os.environ['LD_LIBRARY_PATH'] += \":/usr/lib/nvidia-396\""
      ],
      "execution_count": 0,
      "outputs": []
    },
    {
      "metadata": {
        "id": "nQEtc28G4niA",
        "colab_type": "code",
        "colab": {}
      },
      "cell_type": "code",
      "source": [
        "from pyvirtualdisplay import Display\n",
        "display = Display(visible=0, size=(1400, 900))\n",
        "display.start()"
      ],
      "execution_count": 0,
      "outputs": []
    },
    {
      "metadata": {
        "id": "G9UWeToN4r7D",
        "colab_type": "code",
        "colab": {}
      },
      "cell_type": "code",
      "source": [
        "\"\"\"\n",
        "Utility functions to enable video recording of gym environment and displaying it\n",
        "To enable video, just do \"env = wrap_env(env)\"\"\n",
        "\"\"\"\n",
        "\n",
        "def show_video():\n",
        "  mp4list = glob.glob('video/*.mp4')\n",
        "  if len(mp4list) > 0:\n",
        "    mp4 = mp4list[0]\n",
        "    video = io.open(mp4, 'r+b').read()\n",
        "    encoded = base64.b64encode(video)\n",
        "    ipythondisplay.display(HTML(data='''<video alt=\"test\" autoplay \n",
        "                loop controls style=\"height: 400px;\">\n",
        "                <source src=\"data:video/mp4;base64,{0}\" type=\"video/mp4\" />\n",
        "             </video>'''.format(encoded.decode('ascii'))))\n",
        "  else: \n",
        "    print(\"Could not find video\")\n",
        "    \n",
        "\n",
        "def wrap_env(env):\n",
        "  env = Monitor(env, './video', force=True)\n",
        "  return env"
      ],
      "execution_count": 0,
      "outputs": []
    },
    {
      "metadata": {
        "id": "W3BGbWOu179M",
        "colab_type": "text"
      },
      "cell_type": "markdown",
      "source": [
        "# Mujoco Simulation"
      ]
    },
    {
      "metadata": {
        "id": "dGEFMfDOzLen",
        "colab_type": "code",
        "colab": {}
      },
      "cell_type": "code",
      "source": [
        "import mujoco_py\n",
        "import os\n",
        "mj_path, _ = mujoco_py.utils.discover_mujoco()\n",
        "xml_path = os.path.join(mj_path, 'model', 'humanoid.xml')\n",
        "model = mujoco_py.load_model_from_path(xml_path)\n",
        "sim = mujoco_py.MjSim(model)\n",
        "\n",
        "print(sim.data.qpos)\n",
        "sim.step()\n",
        "print(sim.data.qpos)"
      ],
      "execution_count": 0,
      "outputs": []
    },
    {
      "metadata": {
        "id": "8nj5sjsk15IT",
        "colab_type": "code",
        "colab": {}
      },
      "cell_type": "code",
      "source": [
        "observation = env.reset()\n",
        "while True:\n",
        "    env.render()\n",
        "    action = env.action_space.sample()      \n",
        "    observation, reward, done, info = env.step(action) \n",
        "    if done: \n",
        "      break; \n",
        "env.close()\n",
        "show_video()"
      ],
      "execution_count": 0,
      "outputs": []
    }
  ]
}